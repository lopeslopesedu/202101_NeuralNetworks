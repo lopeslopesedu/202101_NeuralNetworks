{
  "nbformat": 4,
  "nbformat_minor": 0,
  "metadata": {
    "colab": {
      "name": "Atividade5.ipynb",
      "provenance": [],
      "collapsed_sections": []
    },
    "kernelspec": {
      "name": "python3",
      "display_name": "Python 3"
    },
    "language_info": {
      "name": "python"
    }
  },
  "cells": [
    {
      "cell_type": "markdown",
      "metadata": {
        "id": "N1yHbRc0ANyI"
      },
      "source": [
        "# **Atividade Proposta**"
      ]
    },
    {
      "cell_type": "markdown",
      "metadata": {
        "id": "YC7W3kOcAX_2"
      },
      "source": [
        "Avalie com validação cruzada o desempenho da ELM em um dataset não-artificial."
      ]
    },
    {
      "cell_type": "markdown",
      "metadata": {
        "id": "hRVAViItAbqx"
      },
      "source": [
        "# **Importações de Bibliotecas e Funções Básicas**"
      ]
    },
    {
      "cell_type": "code",
      "metadata": {
        "id": "6xfpGw72_-Sx"
      },
      "source": [
        "import matplotlib.pyplot as plt\n",
        "import numpy as np\n",
        "import pandas as pd\n",
        "from sklearn.datasets import make_blobs\n",
        "from sklearn.preprocessing import label_binarize\n",
        "from sklearn.base import BaseEstimator, ClassifierMixin\n",
        "from scipy.special import expit"
      ],
      "execution_count": 154,
      "outputs": []
    },
    {
      "cell_type": "code",
      "metadata": {
        "id": "fIFWcE0V_jTV"
      },
      "source": [
        "def geradataset(tamanho=20, centros=[[0,0],[1,0],[1,1],[0,1]]):\n",
        "    X, y = make_blobs(n_samples=tamanho, centers=centros, cluster_std=0.2)\n",
        "    y = np.array(y%2, dtype=int)\n",
        "    return X, y\n",
        "\n",
        "def plotadataset(X, y):\n",
        "    plt.xlabel('X1')\n",
        "    plt.ylabel('X2')\n",
        "    for k in set(y):\n",
        "        plt.plot(X[:,0][y==k],X[:,1][y==k], \"o\", alpha=0.3)\n",
        "\n",
        "def plotahiperplano(vetor, bias=0, xmin=0, xmax=1):\n",
        "    xs = np.linspace(xmin, xmax, num=2)\n",
        "    ys = (-vetor[0] / vetor[1]) * xs - bias / vetor[1]\n",
        "    plt.plot(xs,ys)"
      ],
      "execution_count": 155,
      "outputs": []
    },
    {
      "cell_type": "markdown",
      "metadata": {
        "id": "7EvwMoi1AfZG"
      },
      "source": [
        "# **Funções de Custo**"
      ]
    },
    {
      "cell_type": "code",
      "metadata": {
        "id": "4nGVO54w_s4b"
      },
      "source": [
        "class CustoPerceptron():\n",
        "    @staticmethod\n",
        "    def erro(y, ypred):\n",
        "        return y - ypred\n",
        "    @staticmethod\n",
        "    def custo(y, ypred):\n",
        "        return np.sum(CustoPerceptron.erro(y, ypred)**2)\n",
        "    @staticmethod\n",
        "    def gradiente(y, ypred, X):\n",
        "        return np.matmul(X.T, CustoPerceptron.erro(y, ypred))\n",
        "\n",
        "class Adaline():\n",
        "    def __init__(self):\n",
        "        self.preactivated = True\n",
        "    @staticmethod\n",
        "    def erro(y, ypred):\n",
        "        return y - ypred\n",
        "    @staticmethod\n",
        "    def custo(y, ypred):\n",
        "        return np.sum((1 - Adaline.erro(y, ypred))**2)\n",
        "    @staticmethod\n",
        "    def gradiente(y, ypred, X):\n",
        "        return np.matmul(X.T, Adaline.erro(y, ypred))"
      ],
      "execution_count": 156,
      "outputs": []
    },
    {
      "cell_type": "code",
      "metadata": {
        "id": "yfEhZKLD_u04"
      },
      "source": [
        "class DescidaGradiente():\n",
        "    def __init__(self, custo=Adaline(), maxiter=1000, alpha=0.005):\n",
        "        self.custo = custo\n",
        "        self.maxiter = maxiter\n",
        "        self.alpha = alpha\n",
        "    \n",
        "    def getW(self, X, y, activation=lambda a: a):\n",
        "        w = np.random.uniform(-1, -1, size=(X.shape[1], y.shape[1]))\n",
        "        for _ in range(self.maxiter):\n",
        "            ypred = activation(np.matmul(X, w))\n",
        "            custo = self.custo.custo(y, ypred)\n",
        "            if custo == 0:\n",
        "                break\n",
        "            w = w + self.alpha * self.custo.gradiente(y, ypred, X)\n",
        "        return w\n",
        "\n",
        "class PseudoInversa():\n",
        "    def __init__(self):\n",
        "        pass\n",
        "    def getW(self, X, y):\n",
        "        pinv = np.linalg.pinv(X)\n",
        "        w = np.matmul(pinv, y)\n",
        "        return w"
      ],
      "execution_count": 157,
      "outputs": []
    },
    {
      "cell_type": "markdown",
      "metadata": {
        "id": "R6xnl1GSAono"
      },
      "source": [
        "# **Implementação do ELM**"
      ]
    },
    {
      "cell_type": "code",
      "metadata": {
        "id": "uSrrhGR8_xxf"
      },
      "source": [
        "def tanh(a):\n",
        "    return expit(a) * 2 - 1\n",
        "\n",
        "class ExtremeLearningMachine(BaseEstimator, ClassifierMixin):\n",
        "    def __init__(self, algoritmo=PseudoInversa()):\n",
        "        self.wih = None\n",
        "        self.w = None\n",
        "        self.threshold = 0\n",
        "        self.activation = tanh\n",
        "        self.algoritmo = algoritmo\n",
        "    \n",
        "    @staticmethod\n",
        "    def includebias(X):\n",
        "        bias = np.ones((X.shape[0],1))\n",
        "        Xb = np.concatenate((bias,X), axis=1)\n",
        "        return Xb\n",
        "    \n",
        "    def fit(self, X, y):\n",
        "        self.wih = np.random.uniform(-1, 1, size=(X.shape[1],X.shape[0]//3))\n",
        "        Xh = np.matmul(X, self.wih)\n",
        "        Xho = self.activation(Xh)\n",
        "        X = ExtremeLearningMachine.includebias(Xho)\n",
        "        self.labels = list(set(y))\n",
        "        y = label_binarize(y, classes=self.labels)*2-1\n",
        "        if len(self.labels) == 2 :\n",
        "            y = y[:,0:1]\n",
        "        # treinamento\n",
        "        if hasattr(self.algoritmo, 'custo') and not (hasattr(self.algoritmo.custo, 'preactivated') and self.algoritmo.custo.preactivated):\n",
        "            self.w = self.algoritmo.getW(X, y, self.activation)\n",
        "        else:\n",
        "            self.w = self.algoritmo.getW(X, y)\n",
        "\n",
        "    def predict(self, X):\n",
        "        Xh = np.matmul(X, self.wih)\n",
        "        Xho = self.activation(Xh)\n",
        "        Xb = ExtremeLearningMachine.includebias(Xho)\n",
        "        a = np.matmul(Xb, self.w)\n",
        "        if self.w.shape[1] > 1:\n",
        "            idx = np.argmax(a, axis=1) \n",
        "        else:\n",
        "            idx = np.array(self.activation(a) > self.threshold, dtype=int)[:,0]\n",
        "        ypred = np.array([self.labels[i] for i in idx])\n",
        "        return ypred"
      ],
      "execution_count": 158,
      "outputs": []
    },
    {
      "cell_type": "markdown",
      "metadata": {
        "id": "LwaCsy5kAsVl"
      },
      "source": [
        "# **Testes e Demais atividades**"
      ]
    },
    {
      "cell_type": "code",
      "metadata": {
        "colab": {
          "base_uri": "https://localhost:8080/",
          "height": 632
        },
        "id": "uNZC9jdVDqhK",
        "outputId": "9ae5980e-50d8-4291-ecae-f6f56c523ab5"
      },
      "source": [
        "X, y = geradataset()\n",
        "plotadataset(X, y)\n",
        "plt.show()\n",
        "X,y"
      ],
      "execution_count": 159,
      "outputs": [
        {
          "output_type": "display_data",
          "data": {
            "image/png": "[encoded data removed]",
            "text/plain": [
              "<Figure size 432x288 with 1 Axes>"
            ]
          },
          "metadata": {
            "needs_background": "light"
          }
        },
        {
          "output_type": "execute_result",
          "data": {
            "text/plain": [
              "(array([[ 1.0102052 ,  0.79367909],\n",
              "        [ 0.92156025, -0.06977538],\n",
              "        [ 0.98814674,  0.19928452],\n",
              "        [ 0.11227973, -0.09093049],\n",
              "        [-0.13956389,  0.10961079],\n",
              "        [ 1.05267762, -0.03916733],\n",
              "        [ 0.86537508,  0.15415007],\n",
              "        [ 1.02787483,  0.01291729],\n",
              "        [ 1.74011019,  0.88365403],\n",
              "        [-0.15960653,  0.98776015],\n",
              "        [ 0.91814765,  0.97243936],\n",
              "        [-0.1566748 ,  1.24369908],\n",
              "        [-0.02217587,  0.44601778],\n",
              "        [-0.14468268,  1.1281862 ],\n",
              "        [-0.22179476,  0.2493235 ],\n",
              "        [ 0.26026644,  0.09244527],\n",
              "        [-0.28198737,  0.99644492],\n",
              "        [ 0.86556268,  1.40023579],\n",
              "        [ 0.38553222,  1.40126515],\n",
              "        [ 1.12682384,  0.97412912]]),\n",
              " array([0, 1, 1, 0, 0, 1, 1, 1, 0, 1, 0, 1, 0, 1, 0, 0, 1, 0, 1, 0]))"
            ]
          },
          "metadata": {},
          "execution_count": 159
        }
      ]
    },
    {
      "cell_type": "code",
      "metadata": {
        "id": "G8KDPma_D5AB"
      },
      "source": [
        "elm = ExtremeLearningMachine()\n",
        "elm.fit(X, y)"
      ],
      "execution_count": 160,
      "outputs": []
    },
    {
      "cell_type": "code",
      "metadata": {
        "colab": {
          "base_uri": "https://localhost:8080/"
        },
        "id": "95dXaqq7D-C-",
        "outputId": "4bf0234d-4c8f-43d7-f625-45f2a6b27b64"
      },
      "source": [
        "ypred = elm.predict(X)\n",
        "print(sum(y == ypred)/len(y))"
      ],
      "execution_count": 161,
      "outputs": [
        {
          "output_type": "stream",
          "name": "stdout",
          "text": [
            "1.0\n"
          ]
        }
      ]
    },
    {
      "cell_type": "code",
      "metadata": {
        "colab": {
          "base_uri": "https://localhost:8080/"
        },
        "id": "deCmbC_5_zsA",
        "outputId": "4f1b314e-0ddc-4c4f-c9d5-44dd58ab5452"
      },
      "source": [
        "# Teste com amostras fora do treinamento\n",
        "Xte, yte = geradataset(10000)\n",
        "ypred = elm.predict(Xte)\n",
        "print(sum(yte == ypred)/len(yte))"
      ],
      "execution_count": 162,
      "outputs": [
        {
          "output_type": "stream",
          "name": "stdout",
          "text": [
            "0.9531\n"
          ]
        }
      ]
    },
    {
      "cell_type": "markdown",
      "metadata": {
        "id": "pLIpGrbihYot"
      },
      "source": [
        "# **Validação Cruzada**"
      ]
    },
    {
      "cell_type": "markdown",
      "metadata": {
        "id": "WxPZJ29chuom"
      },
      "source": [
        "Avalie com validação cruzada o desempenho da ELM em um dataset não-artificial."
      ]
    },
    {
      "cell_type": "markdown",
      "metadata": {
        "id": "-Udtk_DSihV0"
      },
      "source": [
        "Data set não artificial encontrado no link:\n",
        "https://www.kaggle.com/uciml/pima-indians-diabetes-database\n",
        "\n",
        "coloquei ele no meu github : https://raw.githubusercontent.com/lopeslopesedu/202101_NeuralNetworks/main/diabetes.csv"
      ]
    },
    {
      "cell_type": "markdown",
      "metadata": {
        "id": "YA-ZcKSa3wxD"
      },
      "source": [
        "Number of times pregnant.\n",
        "Plasma glucose concentration a 2 hours in an oral glucose tolerance test.\n",
        "Diastolic blood pressure (mm Hg).\n",
        "Triceps skinfold thickness (mm).\n",
        "2-Hour serum insulin (mu U/ml).\n",
        "Body mass index (weight in kg/(height in m)^2).\n",
        "Diabetes pedigree function.\n",
        "Age (years).\n",
        "Class variable (0 or 1)."
      ]
    },
    {
      "cell_type": "code",
      "metadata": {
        "id": "HRr_qSqmjZxx"
      },
      "source": [
        "data = pd.read_csv(\"https://raw.githubusercontent.com/lopeslopesedu/202101_NeuralNetworks/main/diabetes.csv\",sep =\",\")"
      ],
      "execution_count": 163,
      "outputs": []
    },
    {
      "cell_type": "code",
      "metadata": {
        "colab": {
          "base_uri": "https://localhost:8080/",
          "height": 417
        },
        "id": "Tn3I_24bYZ7Y",
        "outputId": "84486587-2b34-4464-8504-24dccebebd5b"
      },
      "source": [
        "data"
      ],
      "execution_count": 164,
      "outputs": [
        {
          "output_type": "execute_result",
          "data": {
            "text/html": [
              "<div>\n",
              "<style scoped>\n",
              "    .dataframe tbody tr th:only-of-type {\n",
              "        vertical-align: middle;\n",
              "    }\n",
              "\n",
              "    .dataframe tbody tr th {\n",
              "        vertical-align: top;\n",
              "    }\n",
              "\n",
              "    .dataframe thead th {\n",
              "        text-align: right;\n",
              "    }\n",
              "</style>\n",
              "<table border=\"1\" class=\"dataframe\">\n",
              "  <thead>\n",
              "    <tr style=\"text-align: right;\">\n",
              "      <th></th>\n",
              "      <th>Pregnancies</th>\n",
              "      <th>Glucose</th>\n",
              "      <th>BloodPressure</th>\n",
              "      <th>SkinThickness</th>\n",
              "      <th>Insulin</th>\n",
              "      <th>BMI</th>\n",
              "      <th>DiabetesPedigreeFunction</th>\n",
              "      <th>Age</th>\n",
              "      <th>Outcome</th>\n",
              "    </tr>\n",
              "  </thead>\n",
              "  <tbody>\n",
              "    <tr>\n",
              "      <th>0</th>\n",
              "      <td>6</td>\n",
              "      <td>148</td>\n",
              "      <td>72</td>\n",
              "      <td>35</td>\n",
              "      <td>0</td>\n",
              "      <td>33.6</td>\n",
              "      <td>0.627</td>\n",
              "      <td>50</td>\n",
              "      <td>1</td>\n",
              "    </tr>\n",
              "    <tr>\n",
              "      <th>1</th>\n",
              "      <td>1</td>\n",
              "      <td>85</td>\n",
              "      <td>66</td>\n",
              "      <td>29</td>\n",
              "      <td>0</td>\n",
              "      <td>26.6</td>\n",
              "      <td>0.351</td>\n",
              "      <td>31</td>\n",
              "      <td>0</td>\n",
              "    </tr>\n",
              "    <tr>\n",
              "      <th>2</th>\n",
              "      <td>8</td>\n",
              "      <td>183</td>\n",
              "      <td>64</td>\n",
              "      <td>0</td>\n",
              "      <td>0</td>\n",
              "      <td>23.3</td>\n",
              "      <td>0.672</td>\n",
              "      <td>32</td>\n",
              "      <td>1</td>\n",
              "    </tr>\n",
              "    <tr>\n",
              "      <th>3</th>\n",
              "      <td>1</td>\n",
              "      <td>89</td>\n",
              "      <td>66</td>\n",
              "      <td>23</td>\n",
              "      <td>94</td>\n",
              "      <td>28.1</td>\n",
              "      <td>0.167</td>\n",
              "      <td>21</td>\n",
              "      <td>0</td>\n",
              "    </tr>\n",
              "    <tr>\n",
              "      <th>4</th>\n",
              "      <td>0</td>\n",
              "      <td>137</td>\n",
              "      <td>40</td>\n",
              "      <td>35</td>\n",
              "      <td>168</td>\n",
              "      <td>43.1</td>\n",
              "      <td>2.288</td>\n",
              "      <td>33</td>\n",
              "      <td>1</td>\n",
              "    </tr>\n",
              "    <tr>\n",
              "      <th>...</th>\n",
              "      <td>...</td>\n",
              "      <td>...</td>\n",
              "      <td>...</td>\n",
              "      <td>...</td>\n",
              "      <td>...</td>\n",
              "      <td>...</td>\n",
              "      <td>...</td>\n",
              "      <td>...</td>\n",
              "      <td>...</td>\n",
              "    </tr>\n",
              "    <tr>\n",
              "      <th>763</th>\n",
              "      <td>10</td>\n",
              "      <td>101</td>\n",
              "      <td>76</td>\n",
              "      <td>48</td>\n",
              "      <td>180</td>\n",
              "      <td>32.9</td>\n",
              "      <td>0.171</td>\n",
              "      <td>63</td>\n",
              "      <td>0</td>\n",
              "    </tr>\n",
              "    <tr>\n",
              "      <th>764</th>\n",
              "      <td>2</td>\n",
              "      <td>122</td>\n",
              "      <td>70</td>\n",
              "      <td>27</td>\n",
              "      <td>0</td>\n",
              "      <td>36.8</td>\n",
              "      <td>0.340</td>\n",
              "      <td>27</td>\n",
              "      <td>0</td>\n",
              "    </tr>\n",
              "    <tr>\n",
              "      <th>765</th>\n",
              "      <td>5</td>\n",
              "      <td>121</td>\n",
              "      <td>72</td>\n",
              "      <td>23</td>\n",
              "      <td>112</td>\n",
              "      <td>26.2</td>\n",
              "      <td>0.245</td>\n",
              "      <td>30</td>\n",
              "      <td>0</td>\n",
              "    </tr>\n",
              "    <tr>\n",
              "      <th>766</th>\n",
              "      <td>1</td>\n",
              "      <td>126</td>\n",
              "      <td>60</td>\n",
              "      <td>0</td>\n",
              "      <td>0</td>\n",
              "      <td>30.1</td>\n",
              "      <td>0.349</td>\n",
              "      <td>47</td>\n",
              "      <td>1</td>\n",
              "    </tr>\n",
              "    <tr>\n",
              "      <th>767</th>\n",
              "      <td>1</td>\n",
              "      <td>93</td>\n",
              "      <td>70</td>\n",
              "      <td>31</td>\n",
              "      <td>0</td>\n",
              "      <td>30.4</td>\n",
              "      <td>0.315</td>\n",
              "      <td>23</td>\n",
              "      <td>0</td>\n",
              "    </tr>\n",
              "  </tbody>\n",
              "</table>\n",
              "<p>768 rows × 9 columns</p>\n",
              "</div>"
            ],
            "text/plain": [
              "     Pregnancies  Glucose  ...  Age  Outcome\n",
              "0              6      148  ...   50        1\n",
              "1              1       85  ...   31        0\n",
              "2              8      183  ...   32        1\n",
              "3              1       89  ...   21        0\n",
              "4              0      137  ...   33        1\n",
              "..           ...      ...  ...  ...      ...\n",
              "763           10      101  ...   63        0\n",
              "764            2      122  ...   27        0\n",
              "765            5      121  ...   30        0\n",
              "766            1      126  ...   47        1\n",
              "767            1       93  ...   23        0\n",
              "\n",
              "[768 rows x 9 columns]"
            ]
          },
          "metadata": {},
          "execution_count": 164
        }
      ]
    },
    {
      "cell_type": "code",
      "metadata": {
        "id": "u8Jq2VaXlCV-"
      },
      "source": [
        "npdata = data.to_numpy()"
      ],
      "execution_count": 165,
      "outputs": []
    },
    {
      "cell_type": "code",
      "metadata": {
        "id": "Ftbt5mDVYRuu"
      },
      "source": [
        "#.tolist()\n",
        "ydata = npdata[:,-1:]\n",
        "Xdata = npdata[:,1:3]"
      ],
      "execution_count": 166,
      "outputs": []
    },
    {
      "cell_type": "code",
      "metadata": {
        "colab": {
          "base_uri": "https://localhost:8080/"
        },
        "id": "UzQTieCFe971",
        "outputId": "6ed2b5b6-2632-46d3-f143-679c4e85177a"
      },
      "source": [
        "target = np.zeros(ydata.size)\n",
        "for i in range(len(ydata)):\n",
        "  target[i] = ydata[i]\n",
        "target.shape"
      ],
      "execution_count": 167,
      "outputs": [
        {
          "output_type": "execute_result",
          "data": {
            "text/plain": [
              "(768,)"
            ]
          },
          "metadata": {},
          "execution_count": 167
        }
      ]
    },
    {
      "cell_type": "code",
      "metadata": {
        "colab": {
          "base_uri": "https://localhost:8080/",
          "height": 279
        },
        "id": "KVpn69mkW7Ys",
        "outputId": "9b33830d-7851-4b26-a05e-2e3e25a679f3"
      },
      "source": [
        "plotadataset(Xdata, target)\n",
        "plt.show()"
      ],
      "execution_count": 168,
      "outputs": [
        {
          "output_type": "display_data",
          "data": {
            "image/png": "[encoded data removed]",
            "text/plain": [
              "<Figure size 432x288 with 1 Axes>"
            ]
          },
          "metadata": {
            "needs_background": "light"
          }
        }
      ]
    },
    {
      "cell_type": "code",
      "metadata": {
        "id": "nbDT1DruXD_-"
      },
      "source": [
        "elm = ExtremeLearningMachine()\n",
        "elm.fit(Xdata, target)"
      ],
      "execution_count": 169,
      "outputs": []
    },
    {
      "cell_type": "code",
      "metadata": {
        "id": "LEjM3y12XDkx",
        "colab": {
          "base_uri": "https://localhost:8080/"
        },
        "outputId": "a793ed55-a633-4f70-c6ce-fae94dff8193"
      },
      "source": [
        "ypred = elm.predict(Xdata)\n",
        "print(sum(target == ypred)/len(target))"
      ],
      "execution_count": 170,
      "outputs": [
        {
          "output_type": "stream",
          "name": "stdout",
          "text": [
            "0.78515625\n"
          ]
        }
      ]
    },
    {
      "cell_type": "code",
      "metadata": {
        "id": "PRcxLmNChYJu"
      },
      "source": [
        "from sklearn.model_selection import cross_val_score # Cross Validation Function.\n",
        "from sklearn.model_selection import KFold # KFold Class."
      ],
      "execution_count": 171,
      "outputs": []
    },
    {
      "cell_type": "code",
      "metadata": {
        "id": "2BOv3g0yhdMr",
        "colab": {
          "base_uri": "https://localhost:8080/"
        },
        "outputId": "b94fd064-7b54-40d8-f938-574a1edb8d23"
      },
      "source": [
        "model  = ExtremeLearningMachine()\n",
        "kfold  = KFold(n_splits=5, shuffle=True) # shuffle=True, Shuffle (embaralhar) the data.\n",
        "result = cross_val_score(model, Xdata, target, cv = kfold)\n",
        "\n",
        "print(\"K-Fold (R^2) Scores: {0}\".format(result))\n",
        "print(\"Mean R^2 for Cross-Validation K-Fold: {0}\".format(result.mean()))"
      ],
      "execution_count": 172,
      "outputs": [
        {
          "output_type": "stream",
          "name": "stdout",
          "text": [
            "K-Fold (R^2) Scores: [0.73376623 0.7012987  0.68831169 0.73202614 0.68627451]\n",
            "Mean R^2 for Cross-Validation K-Fold: 0.7083354553942789\n"
          ]
        }
      ]
    },
    {
      "cell_type": "code",
      "metadata": {
        "id": "t863wnyoiMFP"
      },
      "source": [
        "target = target.astype(int)"
      ],
      "execution_count": 173,
      "outputs": []
    },
    {
      "cell_type": "code",
      "metadata": {
        "colab": {
          "base_uri": "https://localhost:8080/",
          "height": 348
        },
        "id": "R2AFt_Nqh3wt",
        "outputId": "6c15a45d-3be6-4541-c5c5-a3f7edb91b41"
      },
      "source": [
        "from mlxtend.plotting import plot_decision_regions\n",
        "import matplotlib.pyplot as plt\n",
        "\n",
        "fig, ax = plt.subplots()\n",
        "value = 1.5\n",
        "width = 0.75\n",
        "plot_decision_regions(Xdata, target, clf=elm,\n",
        "                      filler_feature_values={2: value},\n",
        "                      filler_feature_ranges={2: width},\n",
        "                      legend=2, ax=ax)\n",
        "\n",
        "fig.suptitle('ELM')\n",
        "plt.show()"
      ],
      "execution_count": 176,
      "outputs": [
        {
          "output_type": "stream",
          "name": "stderr",
          "text": [
            "/usr/local/lib/python3.7/dist-packages/mlxtend/plotting/decision_regions.py:244: MatplotlibDeprecationWarning: Passing unsupported keyword arguments to axis() will raise a TypeError in 3.3.\n",
            "  ax.axis(xmin=xx.min(), xmax=xx.max(), y_min=yy.min(), y_max=yy.max())\n"
          ]
        },
        {
          "output_type": "display_data",
          "data": {
            "image/png": "[encoded data removed]",
            "text/plain": [
              "<Figure size 432x288 with 1 Axes>"
            ]
          },
          "metadata": {
            "needs_background": "light"
          }
        }
      ]
    }
  ]
}